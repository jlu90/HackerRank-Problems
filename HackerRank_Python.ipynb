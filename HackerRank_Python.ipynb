{
 "cells": [
  {
   "cell_type": "markdown",
   "metadata": {},
   "source": [
    "# Solving Python Problems from Hacker Rank"
   ]
  },
  {
   "cell_type": "code",
   "execution_count": 16,
   "metadata": {},
   "outputs": [
    {
     "name": "stdout",
     "output_type": "stream",
     "text": [
      "[6, 5, 3, 2]\n",
      "5\n"
     ]
    }
   ],
   "source": [
    "arr = [2,3,6,6,5]\n",
    "\n",
    "arr = list(dict.fromkeys(arr))\n",
    "arr.remove(max(arr))\n",
    "\n",
    "print(max(arr))"
   ]
  },
  {
   "cell_type": "code",
   "execution_count": null,
   "metadata": {},
   "outputs": [],
   "source": [
    "gradebook = []\n",
    "\n",
    "if __name__ == '__main__':\n",
    "    for _ in range(int(input())):\n",
    "        name = input()\n",
    "        score = float(input())\n",
    "        gradebook.append([name, score])\n",
    "        \n",
    "gradebook.sort(key = lambda x:x[1])\n",
    "\n",
    "lowest = gradebook[0][1]\n",
    "\n",
    "second_lowest = 0\n",
    "\n",
    "for i in range(0,len(gradebook)):\n",
    "    if gradebook[i][1] != lowest:\n",
    "        second_lowest = gradebook[i][1]\n",
    "        break\n",
    "\n",
    "second_lowest_names = list(filter(lambda x:x[1]==second_lowest,gradebook))\n",
    "\n",
    "second_lowest_names.sort()\n",
    "\n",
    "for i in range(0,len(second_lowest_names)):\n",
    "    print(second_lowest_names[i][0])"
   ]
  },
  {
   "cell_type": "code",
   "execution_count": null,
   "metadata": {},
   "outputs": [],
   "source": [
    "if __name__ == '__main__':\n",
    "    N = int(input())\n",
    "\n",
    "    list = []\n",
    "    \n",
    "    for i in range(0,N):\n",
    "        command = input()\n",
    "        command_split = command.split(' ')\n",
    "        if command_split[0] == 'insert':\n",
    "            list.insert(int(command_split[1]),int(command_split[2]))\n",
    "        elif command_split[0] == 'print':\n",
    "            print(list)\n",
    "        elif command_split[0] == 'remove':\n",
    "            list.remove(int(command_split[1]))\n",
    "        elif command_split[0] == 'append':\n",
    "            list.append(int(command_split[1]))\n",
    "        elif command_split[0] == 'sort':\n",
    "            list.sort()\n",
    "        elif command_split[0] == 'pop':\n",
    "            list.pop()\n",
    "        elif command_split[0] == 'reverse':\n",
    "            list.reverse()"
   ]
  },
  {
   "cell_type": "code",
   "execution_count": null,
   "metadata": {},
   "outputs": [],
   "source": [
    "if __name__ == '__main__':\n",
    "    n = int(input())\n",
    "    integer_list = map(int, input().split())\n",
    "    t = tuple(inter_list)\n",
    "    hack(t)"
   ]
  },
  {
   "cell_type": "code",
   "execution_count": 3,
   "metadata": {},
   "outputs": [
    {
     "name": "stdout",
     "output_type": "stream",
     "text": [
      "[[0, 0, 0], [0, 0, 1], [0, 1, 0], [1, 0, 0], [1, 1, 1]]\n"
     ]
    }
   ],
   "source": [
    "x = 2\n",
    "y = 2\n",
    "z = 2\n",
    "n = 2\n",
    "\n",
    "coordinates = []\n",
    "\n",
    "for i in range(0,x):\n",
    "    for j in range(0,y):\n",
    "        for k in range(0,z):\n",
    "            if i+j+k != n:\n",
    "                coordinates.append([i,j,k])\n",
    "                \n",
    "print(coordinates)"
   ]
  },
  {
   "cell_type": "code",
   "execution_count": 7,
   "metadata": {},
   "outputs": [
    {
     "name": "stdout",
     "output_type": "stream",
     "text": [
      "[[0, 0, 0], [0, 0, 1], [0, 1, 0], [1, 0, 0], [1, 1, 1]]\n"
     ]
    }
   ],
   "source": [
    "x = 2\n",
    "y = 2\n",
    "z = 2\n",
    "n = 2\n",
    "\n",
    "print(list([i,j,k]for i in range(0,x+1) for j in range(0,y+1) for k in range(0,z+1) if i+j+k!=n))"
   ]
  },
  {
   "cell_type": "code",
   "execution_count": 35,
   "metadata": {},
   "outputs": [
    {
     "name": "stdout",
     "output_type": "stream",
     "text": [
      "1\n",
      "Jocelyn 1 2 3\n",
      "Jocelyn\n",
      "2.00\n"
     ]
    }
   ],
   "source": [
    "n = int(input())\n",
    "\n",
    "student_marks = {}\n",
    "\n",
    "for _ in range(n):\n",
    "    name, *line = input().split()\n",
    "    scores = list(map(float, line))\n",
    "    student_marks[name] = scores\n",
    "\n",
    "#for key, value in student_marks.items():\n",
    "    #student_marks[key] = sum(value)/len(value)\n",
    "\n",
    "query_name = input()\n",
    "\n",
    "print(\"{0:.2f}\".format(sum(student_marks[query_name])/len(student_marks[query_name])))"
   ]
  },
  {
   "cell_type": "code",
   "execution_count": 38,
   "metadata": {},
   "outputs": [
    {
     "name": "stdout",
     "output_type": "stream",
     "text": [
      "['this', 'is', 'a', 'string']\n",
      "this-is-a-string\n"
     ]
    }
   ],
   "source": [
    "a = 'this is a string'\n",
    "a = a.split(' ')\n",
    "a = \"-\".join(a)\n",
    "print(a)\n",
    "\n"
   ]
  },
  {
   "cell_type": "code",
   "execution_count": null,
   "metadata": {},
   "outputs": [],
   "source": []
  }
 ],
 "metadata": {
  "kernelspec": {
   "display_name": "Python 3",
   "language": "python",
   "name": "python3"
  },
  "language_info": {
   "codemirror_mode": {
    "name": "ipython",
    "version": 3
   },
   "file_extension": ".py",
   "mimetype": "text/x-python",
   "name": "python",
   "nbconvert_exporter": "python",
   "pygments_lexer": "ipython3",
   "version": "3.7.4"
  }
 },
 "nbformat": 4,
 "nbformat_minor": 2
}
