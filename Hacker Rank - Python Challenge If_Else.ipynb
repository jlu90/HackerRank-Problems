{
 "cells": [
  {
   "cell_type": "code",
   "execution_count": 1,
   "metadata": {},
   "outputs": [],
   "source": [
    "def is_it_weird(n: int):\n",
    "    if n%2 != 0:\n",
    "        print('Weird')\n",
    "    elif n%2 == 0 and n <= 5 and n >= 2:\n",
    "        print('Not Weird')\n",
    "    elif n%2 == 0  and n <= 20 and n >= 6:\n",
    "        print('Weird')\n",
    "    elif n%2 == 0 and n > 20:\n",
    "        print('Not eird')\n",
    "    "
   ]
  },
  {
   "cell_type": "code",
   "execution_count": 2,
   "metadata": {},
   "outputs": [
    {
     "name": "stdout",
     "output_type": "stream",
     "text": [
      "Weird\n"
     ]
    }
   ],
   "source": [
    "is_it_weird(3)"
   ]
  },
  {
   "cell_type": "code",
   "execution_count": 3,
   "metadata": {},
   "outputs": [
    {
     "name": "stdout",
     "output_type": "stream",
     "text": [
      "Not weird\n"
     ]
    }
   ],
   "source": [
    "is_it_weird(24)"
   ]
  },
  {
   "cell_type": "code",
   "execution_count": 4,
   "metadata": {},
   "outputs": [],
   "source": [
    "\n",
    "print(a+b) \n",
    "print(a-b) \n",
    "print(a*b)\n",
    "    "
   ]
  },
  {
   "cell_type": "code",
   "execution_count": 22,
   "metadata": {},
   "outputs": [],
   "source": [
    "def leap_year_identify(year):\n",
    "    leap_year = False\n",
    "    \n",
    "    if year%4 == 0:\n",
    "        leap_year = True\n",
    "    if year%100==0:\n",
    "        leap_year = False\n",
    "    if year%100==0 and year%400==0:\n",
    "        leap_year = True\n",
    "    return leap_year\n"
   ]
  },
  {
   "cell_type": "code",
   "execution_count": 23,
   "metadata": {},
   "outputs": [
    {
     "data": {
      "text/plain": [
       "False"
      ]
     },
     "execution_count": 23,
     "metadata": {},
     "output_type": "execute_result"
    }
   ],
   "source": [
    "leap_year_identify(1800)"
   ]
  },
  {
   "cell_type": "code",
   "execution_count": 41,
   "metadata": {},
   "outputs": [
    {
     "name": "stdout",
     "output_type": "stream",
     "text": [
      "3\n",
      "123\n"
     ]
    }
   ],
   "source": [
    "if __name__ == '__main__':\n",
    "    n = int(input())\n",
    "\n",
    "numbers = list()\n",
    "\n",
    "for i in range(1,n+1,1):\n",
    "    numbers.append(str(i))\n",
    "    \n",
    "numbers2 = ''\n",
    "numbers2 = numbers2.join(numbers)\n",
    "\n",
    "print(numbers2)\n",
    "    "
   ]
  },
  {
   "cell_type": "raw",
   "metadata": {},
   "source": [
    "#X,Y,Z,N\n",
    "#All possible coordinates given by (i,j,k) on a 3D grid where i+j+k != N"
   ]
  }
 ],
 "metadata": {
  "kernelspec": {
   "display_name": "Python 3",
   "language": "python",
   "name": "python3"
  },
  "language_info": {
   "codemirror_mode": {
    "name": "ipython",
    "version": 3
   },
   "file_extension": ".py",
   "mimetype": "text/x-python",
   "name": "python",
   "nbconvert_exporter": "python",
   "pygments_lexer": "ipython3",
   "version": "3.7.4"
  }
 },
 "nbformat": 4,
 "nbformat_minor": 2
}
